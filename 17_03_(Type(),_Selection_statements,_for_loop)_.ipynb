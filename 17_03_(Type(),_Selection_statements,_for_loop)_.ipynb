{
  "nbformat": 4,
  "nbformat_minor": 0,
  "metadata": {
    "colab": {
      "name": "17/03 (Type(), Selection statements, for loop) .ipynb",
      "provenance": [],
      "collapsed_sections": [],
      "authorship_tag": "ABX9TyOusck4re0b87EPn392IEuG",
      "include_colab_link": true
    },
    "kernelspec": {
      "name": "python3",
      "display_name": "Python 3"
    },
    "language_info": {
      "name": "python"
    }
  },
  "cells": [
    {
      "cell_type": "markdown",
      "metadata": {
        "id": "view-in-github",
        "colab_type": "text"
      },
      "source": [
        "<a href=\"https://colab.research.google.com/github/rithish-danda/Code-repo/blob/main/17_03_(Type()%2C_Selection_statements%2C_for_loop)_.ipynb\" target=\"_parent\"><img src=\"https://colab.research.google.com/assets/colab-badge.svg\" alt=\"Open In Colab\"/></a>"
      ]
    },
    {
      "cell_type": "markdown",
      "source": [
        "**Using type()**"
      ],
      "metadata": {
        "id": "P1StblAqzEEg"
      }
    },
    {
      "cell_type": "code",
      "source": [
        "a=10\n",
        "print(type(a))\n",
        "a=14.67\n",
        "print(type(a)) # class changed automatially after modification of the object\n",
        "print(type((1,2,3)))\n",
        "print(type([1,2,3]))\n",
        "print(type({1,2,3}))\n",
        "print(type(\"String\"))"
      ],
      "metadata": {
        "colab": {
          "base_uri": "https://localhost:8080/"
        },
        "id": "LM9wxGkZ57LE",
        "outputId": "aed25be7-24be-4dbd-9ea3-df25c684109d"
      },
      "execution_count": null,
      "outputs": [
        {
          "output_type": "stream",
          "name": "stdout",
          "text": [
            "<class 'int'>\n",
            "<class 'float'>\n",
            "<class 'tuple'>\n",
            "<class 'list'>\n",
            "<class 'set'>\n",
            "<class 'str'>\n"
          ]
        }
      ]
    },
    {
      "cell_type": "markdown",
      "source": [
        "Selection Statements  \n",
        "(if-else)"
      ],
      "metadata": {
        "id": "wlzeVO_L6UN9"
      }
    },
    {
      "cell_type": "code",
      "source": [
        "n = int(input(\"Input the data: \"))\n",
        "if n > 0:                               # Here, \":\" is called as Indentation operator\n",
        "  print(\"Input number is Positive.\")    # Indentation is required to maintain a block of code\n",
        "elif n < 0:\n",
        "  print(\"Input number is Negative.\")\n",
        "else:\n",
        "  print(\"Input number is 0.\")\n",
        "print(\" \")\n",
        "print(\"Task Complete\")"
      ],
      "metadata": {
        "colab": {
          "base_uri": "https://localhost:8080/"
        },
        "id": "k2vhVVw68R_s",
        "outputId": "2b860c7a-62ae-4be0-d77f-0d97f3ddf4ce"
      },
      "execution_count": null,
      "outputs": [
        {
          "output_type": "stream",
          "name": "stdout",
          "text": [
            "Input the data: -9\n",
            "Input number is Negative.\n",
            " \n",
            "Task Complete\n"
          ]
        }
      ]
    },
    {
      "cell_type": "code",
      "source": [
        "a = int(input())\n",
        "if a > 10:\n",
        "  print(\"Hello\")\n",
        "elif a > 20:\n",
        "  print(\"Bye\")\n",
        "else:\n",
        "  print(\"Goodbye\")"
      ],
      "metadata": {
        "colab": {
          "base_uri": "https://localhost:8080/"
        },
        "id": "Rv0aud-N9HKU",
        "outputId": "1f010fe6-86ed-4059-c077-bc12403853cf"
      },
      "execution_count": null,
      "outputs": [
        {
          "output_type": "stream",
          "name": "stdout",
          "text": [
            "7\n",
            "Goodbye\n"
          ]
        }
      ]
    },
    {
      "cell_type": "markdown",
      "source": [
        "**Loops**\n",
        "\n",
        "\n",
        "for loop :-\n",
        "syntax :-  for i in range(a,b,c):\n",
        "               //code\n",
        "\n",
        "Here,\n",
        "'i' is a member of the range\n",
        "\n",
        "\n",
        "'in' ia a membership operator\n",
        "\n",
        "\n",
        "\"a\" is the starting point of the loop\n",
        "\n",
        "\n",
        "\"b\" is the end point of the loop\n",
        "\n",
        "\n",
        "\"c\" is the updating factor"
      ],
      "metadata": {
        "id": "XUqI2YhlBlS3"
      }
    },
    {
      "cell_type": "markdown",
      "source": [
        ""
      ],
      "metadata": {
        "id": "cLeoGgEUBlQ0"
      }
    },
    {
      "cell_type": "code",
      "source": [
        "z = 10\n",
        "for i in range(1,z+1):        # 'in' is a membership operator used to check if the object belongs to a particular group\n",
        "  print(i)"
      ],
      "metadata": {
        "colab": {
          "base_uri": "https://localhost:8080/"
        },
        "id": "DPnGO5E_-4G7",
        "outputId": "c1c39abf-ca9b-4270-c02f-0674d23d7c11"
      },
      "execution_count": null,
      "outputs": [
        {
          "output_type": "stream",
          "name": "stdout",
          "text": [
            "1\n",
            "2\n",
            "3\n",
            "4\n",
            "5\n",
            "6\n",
            "7\n",
            "8\n",
            "9\n",
            "10\n"
          ]
        }
      ]
    },
    {
      "cell_type": "markdown",
      "source": [
        "**Questions:**\n",
        "\n",
        "1. Read a number with three digits and compute the addition of last and first digit\n",
        "2. Read any two numbers and find the smallest among them\n",
        "3. Check the input year if it is a leap year\n",
        "4. Smallest among three numbers\n",
        "5. Second Smallest / Largest among three numbers\n",
        "6. Display even series till n\n",
        "7. Compute the sum and average of n numbers\n",
        "8. Print the series of factors for an input number n till 100.\n",
        "9. Print the square of a n numbers using loops.\n",
        "10. Count the number of factor for a number. "
      ],
      "metadata": {
        "id": "AVozJtby_uU7"
      }
    },
    {
      "cell_type": "code",
      "source": [
        "# 1. Read a number with three digits and compute the addition of last and first digit\n",
        "n = input(\"Input any three digit number: \")\n",
        "n1 = n[::-1]\n",
        "n = int(n)\n",
        "n1 = int(n1)\n",
        "if n>99 and n<1000:\n",
        "  a = n%10\n",
        "  b = n1%10\n",
        "  sum = a + b\n",
        "  print(\"The sum of first and last digits of\",n,\"is\",sum)\n",
        "else:\n",
        "  print(\"Invalid input\")\n"
      ],
      "metadata": {
        "colab": {
          "base_uri": "https://localhost:8080/"
        },
        "id": "TWwY4VcYDh9S",
        "outputId": "1a698a1b-0483-4b54-f473-1f3db45b2c6a"
      },
      "execution_count": 2,
      "outputs": [
        {
          "output_type": "stream",
          "name": "stdout",
          "text": [
            "Input any three digit number: 114\n",
            "The sum of first and last digits of 114 is 5\n"
          ]
        }
      ]
    },
    {
      "cell_type": "code",
      "source": [
        "# 2. Read any two numbers and find the smallest among them\n",
        "a = input(\"Enter the first number: \")\n",
        "b = input(\"Enter the second number: \")\n",
        "if a>b:\n",
        "  print(\"The greatest among\",a,\"and\",b,\"is\",a)\n",
        "else:\n",
        "  print(\"The greatest among\",a,\"and\",b,\"is\",b)"
      ],
      "metadata": {
        "colab": {
          "base_uri": "https://localhost:8080/"
        },
        "id": "0hMCHSbUF0dS",
        "outputId": "630e4ef5-ec8b-40c4-8765-b85a9a42c116"
      },
      "execution_count": 3,
      "outputs": [
        {
          "output_type": "stream",
          "name": "stdout",
          "text": [
            "Enter the first number: 99\n",
            "Enter the second number: 69\n",
            "The greatest among 99 and 69 is 99\n"
          ]
        }
      ]
    },
    {
      "cell_type": "code",
      "source": [
        "# 3. Check the input year if it is a leap year\n",
        "y = int(input(\"Input the year: \"))\n",
        "if  (y%400==0) or (y%4==0 and y%100!=0):\n",
        "  print(y,\"is a Leap year\")\n",
        "else:\n",
        "  print(y,\"is not a Leap year\")"
      ],
      "metadata": {
        "colab": {
          "base_uri": "https://localhost:8080/"
        },
        "id": "BA3KaAHeGh1x",
        "outputId": "26bc4acc-cd1f-4c05-8dab-49dbe7de9ffe"
      },
      "execution_count": null,
      "outputs": [
        {
          "output_type": "stream",
          "name": "stdout",
          "text": [
            "Input the year: 2016\n",
            "2016 is a Leap year\n"
          ]
        }
      ]
    },
    {
      "cell_type": "code",
      "source": [
        "# 4. Smallest among three numbers\n",
        "x = int(input(\"Enter the first number: \"))\n",
        "y = int(input(\"Enter the second number: \"))\n",
        "z = int(input(\"Enter the third number: \"))\n",
        "if x<y and x<z:\n",
        "  print(\"The smallest among given three numbers is\",x)\n",
        "elif y<x and y<z:\n",
        "  print(\"The smallest among given three numbers is\",y)\n",
        "else:\n",
        "  print(\"The smallest among given three numbers is\",z)"
      ],
      "metadata": {
        "colab": {
          "base_uri": "https://localhost:8080/"
        },
        "id": "ihv4xdYgG74Z",
        "outputId": "e0c8d53f-841f-4b5f-ff93-b63a76c1375f"
      },
      "execution_count": 4,
      "outputs": [
        {
          "output_type": "stream",
          "name": "stdout",
          "text": [
            "Enter the first number: 4\n",
            "Enter the second number: 9\n",
            "Enter the third number: 3\n",
            "The smallest among given three numbers is 3\n"
          ]
        }
      ]
    },
    {
      "cell_type": "code",
      "source": [
        "# 5. Second Smallest / Largest among three numbers\n",
        "x = int(input(\"Enter the first number: \"))\n",
        "y = int(input(\"Enter the second number: \"))\n",
        "z = int(input(\"Enter the third number: \"))\n",
        "\"\"\"\n",
        "if (x>y and x>z):\n",
        "  if y>z:\n",
        "    print(y,\"is the second smallest number\")\n",
        "  else:\n",
        "    print(z,\"is the second smallest number\")\n",
        "elif (y>x and y>z):\n",
        "  if x>z:\n",
        "    print(x,\"is the second smallest number\")\n",
        "  else:\n",
        "    print(z,\"is the second smallest number\")\n",
        "else:\n",
        "  if x>y:\n",
        "    print(x,\"is the second smallest number\")\n",
        "  else:\n",
        "    print(y,\"is the second smallest number\")\n",
        "\"\"\"\n",
        "if (x>y and x<z) or (x<y and x>z):\n",
        "  print(x,\"is the second smallest number.\")\n",
        "elif (y>x and y<z) or (y<x and y>z):\n",
        "  print(y,\"is the second smallest number.\")\n",
        "elif (z>x and z<y) or (z<x and z>y):\n",
        "  print(z,\"is the second smallest number.\")\n"
      ],
      "metadata": {
        "colab": {
          "base_uri": "https://localhost:8080/"
        },
        "id": "CbfrVYyDIT3K",
        "outputId": "28077efd-09d1-4f62-96c6-f4cf1e861ae2"
      },
      "execution_count": 12,
      "outputs": [
        {
          "output_type": "stream",
          "name": "stdout",
          "text": [
            "Enter the first number: 6\n",
            "Enter the second number: 7\n",
            "Enter the third number: 8\n",
            "7 is the second smallest number.\n"
          ]
        }
      ]
    },
    {
      "cell_type": "code",
      "source": [
        "# 6. Display even series till n\n",
        "n = int(input(\"Input the value of n: \"))\n",
        "for i in range(0,n+1):\n",
        "  if i%2==0:\n",
        "    print(i,end=\" \")"
      ],
      "metadata": {
        "colab": {
          "base_uri": "https://localhost:8080/"
        },
        "id": "i9qC9r6UJTaw",
        "outputId": "7e580bbf-d909-499d-d045-b263331a2a3c"
      },
      "execution_count": 18,
      "outputs": [
        {
          "output_type": "stream",
          "name": "stdout",
          "text": [
            "Input the value of n: 15\n",
            "0 2 4 6 8 10 12 14 "
          ]
        }
      ]
    },
    {
      "cell_type": "code",
      "source": [
        "# 7. Compute the sum and average of n numbers\n",
        "n = int(input(\"Input the number of values to be taken 'n' : \"))\n",
        "sum = 0\n",
        "for i in range(0,n):\n",
        "  a = int(input(\"Enter number: \"))\n",
        "  sum = sum + a\n",
        "  i += 1\n",
        "avg = sum/n\n",
        "print(\"The sum of all given numbers is\",sum)\n",
        "print(\"The average of all given numbers is\",avg)"
      ],
      "metadata": {
        "id": "Bg9eDvF6LQfo",
        "colab": {
          "base_uri": "https://localhost:8080/"
        },
        "outputId": "5d6aa77a-514a-4530-82bf-7876a60bae6f"
      },
      "execution_count": 7,
      "outputs": [
        {
          "output_type": "stream",
          "name": "stdout",
          "text": [
            "Input the number of values to be taken 'n' : 7\n",
            "Enter number: 1\n",
            "Enter number: 2\n",
            "Enter number: 3\n",
            "Enter number: 4\n",
            "Enter number: 5\n",
            "Enter number: 6\n",
            "Enter number: 7\n",
            "The sum of all given numbers is 28\n",
            "The average of all given numbers is 4.0\n"
          ]
        }
      ]
    },
    {
      "cell_type": "code",
      "source": [
        "# 8. Print the series of factors for an input number n till 100\n",
        "n = int(input(\"Input any number: \"))\n",
        "print(\"The factors for the number\",n,\"upto 100 are: \")\n",
        "for i in range(1,100+1):\n",
        "  if n%i==0:\n",
        "    print(i)\n"
      ],
      "metadata": {
        "colab": {
          "base_uri": "https://localhost:8080/"
        },
        "id": "12adQwHs6y50",
        "outputId": "163288bb-b0fb-4a77-f7c5-7a1a1a658409"
      },
      "execution_count": 9,
      "outputs": [
        {
          "output_type": "stream",
          "name": "stdout",
          "text": [
            "Input any number: 500\n",
            "The factors for the number 500 upto 100 are: \n",
            "1\n",
            "2\n",
            "4\n",
            "5\n",
            "10\n",
            "20\n",
            "25\n",
            "50\n",
            "100\n"
          ]
        }
      ]
    },
    {
      "cell_type": "code",
      "source": [
        "# 9. Print the square of a n numbers using loops.\n",
        "n = int(input(\"Input the value of n: \"))\n",
        "for i in range(1,n+1):\n",
        "  sqr = i*i\n",
        "  print(\"The square of\",i,\"is\",sqr)\n"
      ],
      "metadata": {
        "colab": {
          "base_uri": "https://localhost:8080/"
        },
        "id": "SDgGlJKj7bPi",
        "outputId": "6293ba77-4e99-4b23-c07a-e034dbbfab3a"
      },
      "execution_count": null,
      "outputs": [
        {
          "output_type": "stream",
          "name": "stdout",
          "text": [
            "Input the value of n: 10\n",
            "The square of 1 is 1\n",
            "The square of 2 is 4\n",
            "The square of 3 is 9\n",
            "The square of 4 is 16\n",
            "The square of 5 is 25\n",
            "The square of 6 is 36\n",
            "The square of 7 is 49\n",
            "The square of 8 is 64\n",
            "The square of 9 is 81\n",
            "The square of 10 is 100\n"
          ]
        }
      ]
    },
    {
      "cell_type": "code",
      "source": [
        "# 10. Count the number of factor for a number\n",
        "n = int(input(\"Input any number: \"))\n",
        "count = 0\n",
        "for i in range(1,n+1):\n",
        "  if(n%i==0):\n",
        "    count += 1\n",
        "print(\"The number\",n,\"has\",count,\"factors.\")"
      ],
      "metadata": {
        "colab": {
          "base_uri": "https://localhost:8080/"
        },
        "id": "XGAP5bMa8JTb",
        "outputId": "66a2a7be-6f08-4fc4-c671-77187dc19920"
      },
      "execution_count": 10,
      "outputs": [
        {
          "output_type": "stream",
          "name": "stdout",
          "text": [
            "Input any number: 2345678\n",
            "The number 2345678 has 8 factors.\n"
          ]
        }
      ]
    }
  ]
}